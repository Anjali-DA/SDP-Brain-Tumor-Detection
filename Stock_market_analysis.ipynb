{
  "cells": [
    {
      "cell_type": "code",
      "execution_count": 1,
      "metadata": {
        "id": "KnlZasNQY_qU"
      },
      "outputs": [],
      "source": [
        "import pandas as pd\n",
        "import seaborn as sns\n",
        "import numpy as np\n",
        "import matplotlib.pyplot as plt\n",
        "from datetime import datetime\n"
      ]
    },
    {
      "cell_type": "code",
      "execution_count": 2,
      "metadata": {
        "id": "WzktUheVgS7-"
      },
      "outputs": [
        {
          "name": "stdout",
          "output_type": "stream",
          "text": [
            "Note: you may need to restart the kernel to use updated packages.\n"
          ]
        }
      ],
      "source": [
        "%pip install -q yfinance"
      ]
    },
    {
      "cell_type": "markdown",
      "metadata": {},
      "source": [
        "## Data preprocessing"
      ]
    },
    {
      "cell_type": "code",
      "execution_count": 3,
      "metadata": {
        "colab": {
          "background_save": true
        },
        "id": "bx_51aXthnO7"
      },
      "outputs": [],
      "source": [
        "# for reading the stock data from Yahoo finance\n",
        "from pandas_datareader.data import DataReader\n",
        "from pandas_datareader import data as pdr\n",
        "import yfinance as yf\n"
      ]
    },
    {
      "cell_type": "code",
      "execution_count": 4,
      "metadata": {
        "colab": {
          "background_save": true
        },
        "id": "peBtvYZqtuhK"
      },
      "outputs": [],
      "source": [
        "yf.pdr_override()"
      ]
    },
    {
      "cell_type": "code",
      "execution_count": 5,
      "metadata": {
        "colab": {
          "background_save": true
        },
        "id": "1SbPEkltvDZs"
      },
      "outputs": [],
      "source": [
        "stock_list= ['NFLX', 'AMZN', 'DIS', 'ROKU']"
      ]
    },
    {
      "cell_type": "code",
      "execution_count": 6,
      "metadata": {
        "colab": {
          "background_save": true
        },
        "id": "01gfIYdfwHP6"
      },
      "outputs": [],
      "source": [
        "end= datetime.now()\n",
        "start= datetime(end.year -1, end.month,end.day)"
      ]
    },
    {
      "cell_type": "code",
      "execution_count": 7,
      "metadata": {
        "colab": {
          "background_save": true,
          "base_uri": "https://localhost:8080/"
        },
        "id": "lN1IxD_y0wor",
        "outputId": "36db5f74-8d48-49a0-94ca-e19272521beb"
      },
      "outputs": [
        {
          "name": "stdout",
          "output_type": "stream",
          "text": [
            "[*********************100%%**********************]  1 of 1 completed\n",
            "[*********************100%%**********************]  1 of 1 completed\n",
            "[*********************100%%**********************]  1 of 1 completed\n",
            "[*********************100%%**********************]  1 of 1 completed\n"
          ]
        }
      ],
      "source": [
        "for stock in stock_list:\n",
        "  globals()[stock]= yf.download(stock,start,end)"
      ]
    },
    {
      "cell_type": "code",
      "execution_count": 8,
      "metadata": {
        "colab": {
          "background_save": true
        },
        "id": "qVSMJTLHyERU"
      },
      "outputs": [],
      "source": [
        "# creating the company list for analyzing their stocks\n",
        "comp_list= [NFLX, AMZN, DIS, ROKU]\n",
        "comp_name= [\"NETFLIX\",\"AMAZON\",\"DISNEY\",\"ROKU\"]"
      ]
    },
    {
      "cell_type": "code",
      "execution_count": 9,
      "metadata": {
        "colab": {
          "background_save": true
        },
        "id": "Og5dUfJG3SvR"
      },
      "outputs": [],
      "source": [
        "for company, com_name in zip(comp_list, comp_name):\n",
        "  company[\"comp_name\"]= com_name"
      ]
    },
    {
      "cell_type": "code",
      "execution_count": 10,
      "metadata": {
        "colab": {
          "background_save": true,
          "base_uri": "https://localhost:8080/",
          "height": 237
        },
        "id": "FWoO9C1K0mAb",
        "outputId": "7eb8fdbb-68e0-4ac5-ffcb-7388ecfa8eba"
      },
      "outputs": [
        {
          "data": {
            "text/html": [
              "<div>\n",
              "<style scoped>\n",
              "    .dataframe tbody tr th:only-of-type {\n",
              "        vertical-align: middle;\n",
              "    }\n",
              "\n",
              "    .dataframe tbody tr th {\n",
              "        vertical-align: top;\n",
              "    }\n",
              "\n",
              "    .dataframe thead th {\n",
              "        text-align: right;\n",
              "    }\n",
              "</style>\n",
              "<table border=\"1\" class=\"dataframe\">\n",
              "  <thead>\n",
              "    <tr style=\"text-align: right;\">\n",
              "      <th></th>\n",
              "      <th>Open</th>\n",
              "      <th>High</th>\n",
              "      <th>Low</th>\n",
              "      <th>Close</th>\n",
              "      <th>Adj Close</th>\n",
              "      <th>Volume</th>\n",
              "      <th>comp_name</th>\n",
              "    </tr>\n",
              "    <tr>\n",
              "      <th>Date</th>\n",
              "      <th></th>\n",
              "      <th></th>\n",
              "      <th></th>\n",
              "      <th></th>\n",
              "      <th></th>\n",
              "      <th></th>\n",
              "      <th></th>\n",
              "    </tr>\n",
              "  </thead>\n",
              "  <tbody>\n",
              "    <tr>\n",
              "      <th>2023-10-19</th>\n",
              "      <td>64.050003</td>\n",
              "      <td>64.800003</td>\n",
              "      <td>62.119999</td>\n",
              "      <td>62.480000</td>\n",
              "      <td>62.480000</td>\n",
              "      <td>6142700</td>\n",
              "      <td>ROKU</td>\n",
              "    </tr>\n",
              "    <tr>\n",
              "      <th>2023-10-20</th>\n",
              "      <td>62.400002</td>\n",
              "      <td>62.630001</td>\n",
              "      <td>59.660000</td>\n",
              "      <td>59.799999</td>\n",
              "      <td>59.799999</td>\n",
              "      <td>5231900</td>\n",
              "      <td>ROKU</td>\n",
              "    </tr>\n",
              "    <tr>\n",
              "      <th>2023-10-23</th>\n",
              "      <td>59.580002</td>\n",
              "      <td>62.035000</td>\n",
              "      <td>58.900002</td>\n",
              "      <td>61.180000</td>\n",
              "      <td>61.180000</td>\n",
              "      <td>6281200</td>\n",
              "      <td>ROKU</td>\n",
              "    </tr>\n",
              "    <tr>\n",
              "      <th>2023-10-24</th>\n",
              "      <td>61.669998</td>\n",
              "      <td>63.070000</td>\n",
              "      <td>60.619999</td>\n",
              "      <td>61.419998</td>\n",
              "      <td>61.419998</td>\n",
              "      <td>5607700</td>\n",
              "      <td>ROKU</td>\n",
              "    </tr>\n",
              "    <tr>\n",
              "      <th>2023-10-25</th>\n",
              "      <td>62.750000</td>\n",
              "      <td>64.239998</td>\n",
              "      <td>58.154999</td>\n",
              "      <td>58.500000</td>\n",
              "      <td>58.500000</td>\n",
              "      <td>6641900</td>\n",
              "      <td>ROKU</td>\n",
              "    </tr>\n",
              "  </tbody>\n",
              "</table>\n",
              "</div>"
            ],
            "text/plain": [
              "                 Open       High        Low      Close  Adj Close   Volume  \\\n",
              "Date                                                                         \n",
              "2023-10-19  64.050003  64.800003  62.119999  62.480000  62.480000  6142700   \n",
              "2023-10-20  62.400002  62.630001  59.660000  59.799999  59.799999  5231900   \n",
              "2023-10-23  59.580002  62.035000  58.900002  61.180000  61.180000  6281200   \n",
              "2023-10-24  61.669998  63.070000  60.619999  61.419998  61.419998  5607700   \n",
              "2023-10-25  62.750000  64.239998  58.154999  58.500000  58.500000  6641900   \n",
              "\n",
              "           comp_name  \n",
              "Date                  \n",
              "2023-10-19      ROKU  \n",
              "2023-10-20      ROKU  \n",
              "2023-10-23      ROKU  \n",
              "2023-10-24      ROKU  \n",
              "2023-10-25      ROKU  "
            ]
          },
          "execution_count": 10,
          "metadata": {},
          "output_type": "execute_result"
        }
      ],
      "source": [
        "df= pd.concat(comp_list,axis=0)\n",
        "df.tail()"
      ]
    },
    {
      "cell_type": "code",
      "execution_count": 11,
      "metadata": {},
      "outputs": [],
      "source": [
        "df1= ROKU\n",
        "df2= DIS\n",
        "df3= AMZN\n",
        "df4= NFLX"
      ]
    },
    {
      "cell_type": "code",
      "execution_count": null,
      "metadata": {},
      "outputs": [],
      "source": []
    },
    {
      "cell_type": "code",
      "execution_count": 12,
      "metadata": {},
      "outputs": [
        {
          "data": {
            "text/plain": [
              "(251, 7)"
            ]
          },
          "execution_count": 12,
          "metadata": {},
          "output_type": "execute_result"
        }
      ],
      "source": [
        "df1.shape"
      ]
    },
    {
      "cell_type": "markdown",
      "metadata": {},
      "source": [
        "## Model Evaluation\n"
      ]
    },
    {
      "cell_type": "code",
      "execution_count": 21,
      "metadata": {},
      "outputs": [],
      "source": [
        "from sklearn.preprocessing import StandardScaler\n",
        "from sklearn.model_selection import train_test_split\n",
        "from sklearn.neighbors import KNeighborsClassifier\n",
        "from sklearn.linear_model import LogisticRegression\n",
        "from sklearn.linear_model import LinearRegression\n",
        "from sklearn.ensemble import RandomForestRegressor\n",
        "from sklearn.model_selection import cross_val_score\n",
        "from sklearn import metrics\n",
        "from sklearn.metrics import mean_squared_error, mean_absolute_error, mean_absolute_percentage_error,r2_score\n"
      ]
    },
    {
      "cell_type": "markdown",
      "metadata": {},
      "source": [
        "### Model Evaluation for ROKU"
      ]
    },
    {
      "cell_type": "code",
      "execution_count": 14,
      "metadata": {},
      "outputs": [],
      "source": [
        "train, test= train_test_split(df1,test_size=0.2)"
      ]
    },
    {
      "cell_type": "code",
      "execution_count": 15,
      "metadata": {},
      "outputs": [
        {
          "data": {
            "text/html": [
              "<div>\n",
              "<style scoped>\n",
              "    .dataframe tbody tr th:only-of-type {\n",
              "        vertical-align: middle;\n",
              "    }\n",
              "\n",
              "    .dataframe tbody tr th {\n",
              "        vertical-align: top;\n",
              "    }\n",
              "\n",
              "    .dataframe thead th {\n",
              "        text-align: right;\n",
              "    }\n",
              "</style>\n",
              "<table border=\"1\" class=\"dataframe\">\n",
              "  <thead>\n",
              "    <tr style=\"text-align: right;\">\n",
              "      <th></th>\n",
              "      <th>Open</th>\n",
              "      <th>High</th>\n",
              "      <th>Low</th>\n",
              "      <th>Close</th>\n",
              "      <th>Adj Close</th>\n",
              "      <th>Volume</th>\n",
              "      <th>comp_name</th>\n",
              "    </tr>\n",
              "    <tr>\n",
              "      <th>Date</th>\n",
              "      <th></th>\n",
              "      <th></th>\n",
              "      <th></th>\n",
              "      <th></th>\n",
              "      <th></th>\n",
              "      <th></th>\n",
              "      <th></th>\n",
              "    </tr>\n",
              "  </thead>\n",
              "  <tbody>\n",
              "    <tr>\n",
              "      <th>2023-05-15</th>\n",
              "      <td>53.709999</td>\n",
              "      <td>54.849998</td>\n",
              "      <td>52.939999</td>\n",
              "      <td>54.020000</td>\n",
              "      <td>54.020000</td>\n",
              "      <td>4724200</td>\n",
              "      <td>ROKU</td>\n",
              "    </tr>\n",
              "    <tr>\n",
              "      <th>2023-10-12</th>\n",
              "      <td>71.379997</td>\n",
              "      <td>71.459999</td>\n",
              "      <td>67.610001</td>\n",
              "      <td>67.769997</td>\n",
              "      <td>67.769997</td>\n",
              "      <td>5520800</td>\n",
              "      <td>ROKU</td>\n",
              "    </tr>\n",
              "    <tr>\n",
              "      <th>2023-06-20</th>\n",
              "      <td>70.169998</td>\n",
              "      <td>70.769997</td>\n",
              "      <td>67.699997</td>\n",
              "      <td>67.959999</td>\n",
              "      <td>67.959999</td>\n",
              "      <td>5747900</td>\n",
              "      <td>ROKU</td>\n",
              "    </tr>\n",
              "    <tr>\n",
              "      <th>2023-02-15</th>\n",
              "      <td>58.560001</td>\n",
              "      <td>63.750999</td>\n",
              "      <td>58.549999</td>\n",
              "      <td>63.490002</td>\n",
              "      <td>63.490002</td>\n",
              "      <td>17825600</td>\n",
              "      <td>ROKU</td>\n",
              "    </tr>\n",
              "    <tr>\n",
              "      <th>2022-12-21</th>\n",
              "      <td>43.400002</td>\n",
              "      <td>44.039001</td>\n",
              "      <td>42.419998</td>\n",
              "      <td>42.950001</td>\n",
              "      <td>42.950001</td>\n",
              "      <td>5117100</td>\n",
              "      <td>ROKU</td>\n",
              "    </tr>\n",
              "  </tbody>\n",
              "</table>\n",
              "</div>"
            ],
            "text/plain": [
              "                 Open       High        Low      Close  Adj Close    Volume  \\\n",
              "Date                                                                          \n",
              "2023-05-15  53.709999  54.849998  52.939999  54.020000  54.020000   4724200   \n",
              "2023-10-12  71.379997  71.459999  67.610001  67.769997  67.769997   5520800   \n",
              "2023-06-20  70.169998  70.769997  67.699997  67.959999  67.959999   5747900   \n",
              "2023-02-15  58.560001  63.750999  58.549999  63.490002  63.490002  17825600   \n",
              "2022-12-21  43.400002  44.039001  42.419998  42.950001  42.950001   5117100   \n",
              "\n",
              "           comp_name  \n",
              "Date                  \n",
              "2023-05-15      ROKU  \n",
              "2023-10-12      ROKU  \n",
              "2023-06-20      ROKU  \n",
              "2023-02-15      ROKU  \n",
              "2022-12-21      ROKU  "
            ]
          },
          "execution_count": 15,
          "metadata": {},
          "output_type": "execute_result"
        }
      ],
      "source": [
        "train.head()"
      ]
    },
    {
      "cell_type": "code",
      "execution_count": 16,
      "metadata": {},
      "outputs": [
        {
          "data": {
            "text/html": [
              "<div>\n",
              "<style scoped>\n",
              "    .dataframe tbody tr th:only-of-type {\n",
              "        vertical-align: middle;\n",
              "    }\n",
              "\n",
              "    .dataframe tbody tr th {\n",
              "        vertical-align: top;\n",
              "    }\n",
              "\n",
              "    .dataframe thead th {\n",
              "        text-align: right;\n",
              "    }\n",
              "</style>\n",
              "<table border=\"1\" class=\"dataframe\">\n",
              "  <thead>\n",
              "    <tr style=\"text-align: right;\">\n",
              "      <th></th>\n",
              "      <th>Open</th>\n",
              "      <th>High</th>\n",
              "      <th>Low</th>\n",
              "      <th>Close</th>\n",
              "      <th>Adj Close</th>\n",
              "      <th>Volume</th>\n",
              "      <th>comp_name</th>\n",
              "    </tr>\n",
              "    <tr>\n",
              "      <th>Date</th>\n",
              "      <th></th>\n",
              "      <th></th>\n",
              "      <th></th>\n",
              "      <th></th>\n",
              "      <th></th>\n",
              "      <th></th>\n",
              "      <th></th>\n",
              "    </tr>\n",
              "  </thead>\n",
              "  <tbody>\n",
              "    <tr>\n",
              "      <th>2023-03-15</th>\n",
              "      <td>60.570000</td>\n",
              "      <td>62.669998</td>\n",
              "      <td>59.299999</td>\n",
              "      <td>62.340000</td>\n",
              "      <td>62.340000</td>\n",
              "      <td>6474300</td>\n",
              "      <td>ROKU</td>\n",
              "    </tr>\n",
              "    <tr>\n",
              "      <th>2022-10-31</th>\n",
              "      <td>56.009998</td>\n",
              "      <td>57.250000</td>\n",
              "      <td>53.840000</td>\n",
              "      <td>55.540001</td>\n",
              "      <td>55.540001</td>\n",
              "      <td>7712700</td>\n",
              "      <td>ROKU</td>\n",
              "    </tr>\n",
              "    <tr>\n",
              "      <th>2023-04-27</th>\n",
              "      <td>54.820000</td>\n",
              "      <td>58.840000</td>\n",
              "      <td>53.830002</td>\n",
              "      <td>57.009998</td>\n",
              "      <td>57.009998</td>\n",
              "      <td>15582400</td>\n",
              "      <td>ROKU</td>\n",
              "    </tr>\n",
              "    <tr>\n",
              "      <th>2023-01-20</th>\n",
              "      <td>50.939999</td>\n",
              "      <td>52.590000</td>\n",
              "      <td>50.750000</td>\n",
              "      <td>52.389999</td>\n",
              "      <td>52.389999</td>\n",
              "      <td>6857500</td>\n",
              "      <td>ROKU</td>\n",
              "    </tr>\n",
              "    <tr>\n",
              "      <th>2023-01-25</th>\n",
              "      <td>50.360001</td>\n",
              "      <td>53.299999</td>\n",
              "      <td>49.459999</td>\n",
              "      <td>52.150002</td>\n",
              "      <td>52.150002</td>\n",
              "      <td>12213400</td>\n",
              "      <td>ROKU</td>\n",
              "    </tr>\n",
              "  </tbody>\n",
              "</table>\n",
              "</div>"
            ],
            "text/plain": [
              "                 Open       High        Low      Close  Adj Close    Volume  \\\n",
              "Date                                                                          \n",
              "2023-03-15  60.570000  62.669998  59.299999  62.340000  62.340000   6474300   \n",
              "2022-10-31  56.009998  57.250000  53.840000  55.540001  55.540001   7712700   \n",
              "2023-04-27  54.820000  58.840000  53.830002  57.009998  57.009998  15582400   \n",
              "2023-01-20  50.939999  52.590000  50.750000  52.389999  52.389999   6857500   \n",
              "2023-01-25  50.360001  53.299999  49.459999  52.150002  52.150002  12213400   \n",
              "\n",
              "           comp_name  \n",
              "Date                  \n",
              "2023-03-15      ROKU  \n",
              "2022-10-31      ROKU  \n",
              "2023-04-27      ROKU  \n",
              "2023-01-20      ROKU  \n",
              "2023-01-25      ROKU  "
            ]
          },
          "execution_count": 16,
          "metadata": {},
          "output_type": "execute_result"
        }
      ],
      "source": [
        "test.head()"
      ]
    },
    {
      "cell_type": "code",
      "execution_count": 17,
      "metadata": {},
      "outputs": [],
      "source": [
        "x_train1 = train[['Open', 'High', 'Low', 'Volume']].values\n",
        "x_test1 = test[['Open', 'High', 'Low', 'Volume']].values"
      ]
    },
    {
      "cell_type": "code",
      "execution_count": 18,
      "metadata": {},
      "outputs": [],
      "source": [
        "y_train1 = train['Close'].values\n",
        "y_test1 = test['Close'].values"
      ]
    },
    {
      "cell_type": "code",
      "execution_count": 19,
      "metadata": {},
      "outputs": [],
      "source": [
        "model1= LinearRegression()\n",
        "model1.fit(x_train1, y_train1)\n",
        "y_pred1 = model1.predict(x_test1)"
      ]
    },
    {
      "cell_type": "code",
      "execution_count": 22,
      "metadata": {},
      "outputs": [],
      "source": [
        "model2=  RandomForestRegressor()\n",
        "model2.fit(x_train1,y_train1)\n",
        "y_pred2=model2.predict(x_test1)"
      ]
    },
    {
      "cell_type": "code",
      "execution_count": 23,
      "metadata": {},
      "outputs": [
        {
          "name": "stdout",
          "output_type": "stream",
          "text": [
            "[253.52012484]\n"
          ]
        }
      ],
      "source": [
        "result1 = model1.predict([[262.000000, 267.899994, 250.029999, 11896100]])\n",
        "print(result1)"
      ]
    },
    {
      "cell_type": "code",
      "execution_count": 24,
      "metadata": {},
      "outputs": [
        {
          "name": "stdout",
          "output_type": "stream",
          "text": [
            "[94.40139854]\n"
          ]
        }
      ],
      "source": [
        "result2 = model2.predict([[262.000000, 267.899994, 250.029999, 11896100]])\n",
        "print(result2)"
      ]
    },
    {
      "cell_type": "code",
      "execution_count": 28,
      "metadata": {},
      "outputs": [
        {
          "name": "stdout",
          "output_type": "stream",
          "text": [
            "Model Evaluation with Linear regression\n",
            "****************************************\n",
            "MSE 1.11\n",
            "RMSE 1.06\n",
            "MAE 0.8\n",
            "MAPE 0.01\n",
            "R2 Score :  0.99\n"
          ]
        }
      ],
      "source": [
        "print(\"Model Evaluation with Linear regression\")\n",
        "print(\"*\"*40)\n",
        "print(\"MSE\",round(mean_squared_error(y_test1,y_pred1), 2))\n",
        "print(\"RMSE\",round(np.sqrt(mean_squared_error(y_test1,y_pred1)), 2))\n",
        "print(\"MAE\",round(mean_absolute_error(y_test1,y_pred1), 2))\n",
        "print(\"MAPE\",round(mean_absolute_percentage_error(y_test1,y_pred1), 2))\n",
        "print(\"R2 Score : \", round(r2_score(y_test1,y_pred1), 2))"
      ]
    },
    {
      "cell_type": "code",
      "execution_count": 30,
      "metadata": {},
      "outputs": [
        {
          "name": "stdout",
          "output_type": "stream",
          "text": [
            "Model Evaluation with Random Forest\n",
            "****************************************\n",
            "MSE 2.36\n",
            "RMSE 1.54\n",
            "MAE 1.21\n",
            "MAPE 0.02\n",
            "R2 Score :  0.98\n"
          ]
        }
      ],
      "source": [
        "print(\"Model Evaluation with Random Forest\")\n",
        "print(\"*\"*40)\n",
        "print(\"MSE\",round(mean_squared_error(y_test1,y_pred2), 2))\n",
        "print(\"RMSE\",round(np.sqrt(mean_squared_error(y_test1,y_pred2)), 2))\n",
        "print(\"MAE\",round(mean_absolute_error(y_test1,y_pred2), 2))\n",
        "print(\"MAPE\",round(mean_absolute_percentage_error(y_test1,y_pred2), 2))\n",
        "print(\"R2 Score : \", round(r2_score(y_test1,y_pred2), 2))"
      ]
    },
    {
      "cell_type": "markdown",
      "metadata": {},
      "source": [
        "### Model Evaluation for DISNEY"
      ]
    },
    {
      "cell_type": "code",
      "execution_count": 31,
      "metadata": {},
      "outputs": [],
      "source": [
        "train, test= train_test_split(df2,test_size=0.2)"
      ]
    },
    {
      "cell_type": "code",
      "execution_count": 32,
      "metadata": {},
      "outputs": [],
      "source": [
        "x_train2 = train[['Open', 'High', 'Low', 'Volume']].values\n",
        "x_test2 = test[['Open', 'High', 'Low', 'Volume']].values"
      ]
    },
    {
      "cell_type": "code",
      "execution_count": 33,
      "metadata": {},
      "outputs": [],
      "source": [
        "y_train2 = train['Close'].values\n",
        "y_test2 = test['Close'].values"
      ]
    },
    {
      "cell_type": "code",
      "execution_count": 34,
      "metadata": {},
      "outputs": [
        {
          "data": {
            "text/html": [
              "<style>#sk-container-id-1 {color: black;background-color: white;}#sk-container-id-1 pre{padding: 0;}#sk-container-id-1 div.sk-toggleable {background-color: white;}#sk-container-id-1 label.sk-toggleable__label {cursor: pointer;display: block;width: 100%;margin-bottom: 0;padding: 0.3em;box-sizing: border-box;text-align: center;}#sk-container-id-1 label.sk-toggleable__label-arrow:before {content: \"▸\";float: left;margin-right: 0.25em;color: #696969;}#sk-container-id-1 label.sk-toggleable__label-arrow:hover:before {color: black;}#sk-container-id-1 div.sk-estimator:hover label.sk-toggleable__label-arrow:before {color: black;}#sk-container-id-1 div.sk-toggleable__content {max-height: 0;max-width: 0;overflow: hidden;text-align: left;background-color: #f0f8ff;}#sk-container-id-1 div.sk-toggleable__content pre {margin: 0.2em;color: black;border-radius: 0.25em;background-color: #f0f8ff;}#sk-container-id-1 input.sk-toggleable__control:checked~div.sk-toggleable__content {max-height: 200px;max-width: 100%;overflow: auto;}#sk-container-id-1 input.sk-toggleable__control:checked~label.sk-toggleable__label-arrow:before {content: \"▾\";}#sk-container-id-1 div.sk-estimator input.sk-toggleable__control:checked~label.sk-toggleable__label {background-color: #d4ebff;}#sk-container-id-1 div.sk-label input.sk-toggleable__control:checked~label.sk-toggleable__label {background-color: #d4ebff;}#sk-container-id-1 input.sk-hidden--visually {border: 0;clip: rect(1px 1px 1px 1px);clip: rect(1px, 1px, 1px, 1px);height: 1px;margin: -1px;overflow: hidden;padding: 0;position: absolute;width: 1px;}#sk-container-id-1 div.sk-estimator {font-family: monospace;background-color: #f0f8ff;border: 1px dotted black;border-radius: 0.25em;box-sizing: border-box;margin-bottom: 0.5em;}#sk-container-id-1 div.sk-estimator:hover {background-color: #d4ebff;}#sk-container-id-1 div.sk-parallel-item::after {content: \"\";width: 100%;border-bottom: 1px solid gray;flex-grow: 1;}#sk-container-id-1 div.sk-label:hover label.sk-toggleable__label {background-color: #d4ebff;}#sk-container-id-1 div.sk-serial::before {content: \"\";position: absolute;border-left: 1px solid gray;box-sizing: border-box;top: 0;bottom: 0;left: 50%;z-index: 0;}#sk-container-id-1 div.sk-serial {display: flex;flex-direction: column;align-items: center;background-color: white;padding-right: 0.2em;padding-left: 0.2em;position: relative;}#sk-container-id-1 div.sk-item {position: relative;z-index: 1;}#sk-container-id-1 div.sk-parallel {display: flex;align-items: stretch;justify-content: center;background-color: white;position: relative;}#sk-container-id-1 div.sk-item::before, #sk-container-id-1 div.sk-parallel-item::before {content: \"\";position: absolute;border-left: 1px solid gray;box-sizing: border-box;top: 0;bottom: 0;left: 50%;z-index: -1;}#sk-container-id-1 div.sk-parallel-item {display: flex;flex-direction: column;z-index: 1;position: relative;background-color: white;}#sk-container-id-1 div.sk-parallel-item:first-child::after {align-self: flex-end;width: 50%;}#sk-container-id-1 div.sk-parallel-item:last-child::after {align-self: flex-start;width: 50%;}#sk-container-id-1 div.sk-parallel-item:only-child::after {width: 0;}#sk-container-id-1 div.sk-dashed-wrapped {border: 1px dashed gray;margin: 0 0.4em 0.5em 0.4em;box-sizing: border-box;padding-bottom: 0.4em;background-color: white;}#sk-container-id-1 div.sk-label label {font-family: monospace;font-weight: bold;display: inline-block;line-height: 1.2em;}#sk-container-id-1 div.sk-label-container {text-align: center;}#sk-container-id-1 div.sk-container {/* jupyter's `normalize.less` sets `[hidden] { display: none; }` but bootstrap.min.css set `[hidden] { display: none !important; }` so we also need the `!important` here to be able to override the default hidden behavior on the sphinx rendered scikit-learn.org. See: https://github.com/scikit-learn/scikit-learn/issues/21755 */display: inline-block !important;position: relative;}#sk-container-id-1 div.sk-text-repr-fallback {display: none;}</style><div id=\"sk-container-id-1\" class=\"sk-top-container\"><div class=\"sk-text-repr-fallback\"><pre>LinearRegression()</pre><b>In a Jupyter environment, please rerun this cell to show the HTML representation or trust the notebook. <br />On GitHub, the HTML representation is unable to render, please try loading this page with nbviewer.org.</b></div><div class=\"sk-container\" hidden><div class=\"sk-item\"><div class=\"sk-estimator sk-toggleable\"><input class=\"sk-toggleable__control sk-hidden--visually\" id=\"sk-estimator-id-1\" type=\"checkbox\" checked><label for=\"sk-estimator-id-1\" class=\"sk-toggleable__label sk-toggleable__label-arrow\">LinearRegression</label><div class=\"sk-toggleable__content\"><pre>LinearRegression()</pre></div></div></div></div></div>"
            ],
            "text/plain": [
              "LinearRegression()"
            ]
          },
          "execution_count": 34,
          "metadata": {},
          "output_type": "execute_result"
        }
      ],
      "source": [
        "model1.fit(x_train2, y_train2)"
      ]
    },
    {
      "cell_type": "code",
      "execution_count": 35,
      "metadata": {},
      "outputs": [],
      "source": [
        "y_pred3 = model1.predict(x_test2)\n",
        "y_pred4= model2.predict(x_test2)"
      ]
    },
    {
      "cell_type": "code",
      "execution_count": 36,
      "metadata": {},
      "outputs": [
        {
          "name": "stdout",
          "output_type": "stream",
          "text": [
            "[257.98579954]\n"
          ]
        }
      ],
      "source": [
        "result3 = model1.predict([[262.000000, 267.899994, 250.029999, 11896100]])\n",
        "print(result3)"
      ]
    },
    {
      "cell_type": "code",
      "execution_count": 37,
      "metadata": {},
      "outputs": [
        {
          "name": "stdout",
          "output_type": "stream",
          "text": [
            "[94.40139854]\n"
          ]
        }
      ],
      "source": [
        "result4= model2.predict([[262.000000, 267.899994, 250.029999, 11896100]])\n",
        "print(result4)"
      ]
    },
    {
      "cell_type": "code",
      "execution_count": 40,
      "metadata": {},
      "outputs": [
        {
          "name": "stdout",
          "output_type": "stream",
          "text": [
            "Model Evauation for DISNEY with Linear Regression\n",
            "**************************************************\n",
            "MSE 0.43\n",
            "RMSE 0.66\n",
            "MAE 0.49\n",
            "MAPE 0.01\n",
            "R2 Score :  0.99\n"
          ]
        }
      ],
      "source": [
        "print(\"Model Evauation for DISNEY with Linear Regression\")\n",
        "print(\"*\"*50)\n",
        "print(\"MSE\",round(mean_squared_error(y_test2,y_pred3), 2))\n",
        "print(\"RMSE\",round(np.sqrt(mean_squared_error(y_test2,y_pred3)), 2))\n",
        "print(\"MAE\",round(mean_absolute_error(y_test2,y_pred3), 2))\n",
        "print(\"MAPE\",round(mean_absolute_percentage_error(y_test2,y_pred3), 2))\n",
        "print(\"R2 Score : \", round(r2_score(y_test2,y_pred3), 2))"
      ]
    },
    {
      "cell_type": "code",
      "execution_count": 41,
      "metadata": {},
      "outputs": [
        {
          "name": "stdout",
          "output_type": "stream",
          "text": [
            "Model Evauation for DISNEY with Random Forest Regression\n",
            "**************************************************\n",
            "MSE 23.95\n",
            "RMSE 4.89\n",
            "MAE 2.97\n",
            "MAPE 0.03\n",
            "R2 Score :  0.53\n"
          ]
        }
      ],
      "source": [
        "print(\"Model Evauation for DISNEY with Random Forest Regression\")\n",
        "print(\"*\"*50)\n",
        "print(\"MSE\",round(mean_squared_error(y_test2,y_pred4), 2))\n",
        "print(\"RMSE\",round(np.sqrt(mean_squared_error(y_test2,y_pred4)), 2))\n",
        "print(\"MAE\",round(mean_absolute_error(y_test2,y_pred4), 2))\n",
        "print(\"MAPE\",round(mean_absolute_percentage_error(y_test2,y_pred4), 2))\n",
        "print(\"R2 Score : \", round(r2_score(y_test2,y_pred4), 2))"
      ]
    },
    {
      "cell_type": "markdown",
      "metadata": {},
      "source": [
        "### Model Evaluation of AMZN"
      ]
    },
    {
      "cell_type": "code",
      "execution_count": null,
      "metadata": {},
      "outputs": [],
      "source": [
        "train, test= train_test_split(df3,test_size=0.2)\n",
        "x_train = train[['Open', 'High', 'Low', 'Volume']].values\n",
        "x_test = test[['Open', 'High', 'Low', 'Volume']].values\n",
        "y_train = train['Close'].values\n",
        "y_test = test['Close'].values"
      ]
    },
    {
      "cell_type": "code",
      "execution_count": null,
      "metadata": {},
      "outputs": [
        {
          "name": "stdout",
          "output_type": "stream",
          "text": [
            "[254.76305315]\n"
          ]
        }
      ],
      "source": [
        "lin_reg = LinearRegression()\n",
        "lin_reg.fit(x_train, y_train)\n",
        "y_pred = lin_reg.predict(x_test)\n",
        "result = lin_reg.predict([[262.000000, 267.899994, 250.029999, 11896100]])\n",
        "print(result)"
      ]
    },
    {
      "cell_type": "code",
      "execution_count": null,
      "metadata": {},
      "outputs": [
        {
          "name": "stdout",
          "output_type": "stream",
          "text": [
            "Model Evauation for AMZN\n",
            "MSE 0.43\n",
            "RMSE 0.66\n",
            "MAE 0.52\n",
            "MAPE 0.0\n",
            "R2 Score :  1.0\n"
          ]
        }
      ],
      "source": [
        "print(\"Model Evauation for AMZN\")\n",
        "print(\"MSE\",round(mean_squared_error(y_test,y_pred), 2))\n",
        "print(\"RMSE\",round(np.sqrt(mean_squared_error(y_test,y_pred)), 2))\n",
        "print(\"MAE\",round(mean_absolute_error(y_test,y_pred), 2))\n",
        "print(\"MAPE\",round(mean_absolute_percentage_error(y_test,y_pred), 2))\n",
        "print(\"R2 Score : \", round(r2_score(y_test,y_pred), 2))"
      ]
    },
    {
      "cell_type": "markdown",
      "metadata": {},
      "source": [
        "### Model Evaluation for NFLX"
      ]
    },
    {
      "cell_type": "code",
      "execution_count": null,
      "metadata": {},
      "outputs": [],
      "source": [
        "train, test= train_test_split(df4,test_size=0.2)\n",
        "x_train = train[['Open', 'High', 'Low', 'Volume']].values\n",
        "x_test = test[['Open', 'High', 'Low', 'Volume']].values\n",
        "y_train = train['Close'].values\n",
        "y_test = test['Close'].values"
      ]
    },
    {
      "cell_type": "code",
      "execution_count": null,
      "metadata": {},
      "outputs": [
        {
          "name": "stdout",
          "output_type": "stream",
          "text": [
            "[256.7328319]\n"
          ]
        }
      ],
      "source": [
        "lin_reg = LinearRegression()\n",
        "lin_reg.fit(x_train, y_train)\n",
        "y_pred = lin_reg.predict(x_test)\n",
        "result = lin_reg.predict([[262.000000, 267.899994, 250.029999, 11896100]])\n",
        "print(result)"
      ]
    },
    {
      "cell_type": "code",
      "execution_count": null,
      "metadata": {},
      "outputs": [
        {
          "name": "stdout",
          "output_type": "stream",
          "text": [
            "Model Evauation for AMZN\n",
            "MSE 15.15\n",
            "RMSE 3.89\n",
            "MAE 3.07\n",
            "MAPE 0.01\n",
            "R2 Score :  1.0\n"
          ]
        }
      ],
      "source": [
        "print(\"Model Evauation for AMZN\")\n",
        "print(\"MSE\",round(mean_squared_error(y_test,y_pred), 2))\n",
        "print(\"RMSE\",round(np.sqrt(mean_squared_error(y_test,y_pred)), 2))\n",
        "print(\"MAE\",round(mean_absolute_error(y_test,y_pred), 2))\n",
        "print(\"MAPE\",round(mean_absolute_percentage_error(y_test,y_pred), 2))\n",
        "print(\"R2 Score : \", round(r2_score(y_test,y_pred), 2))"
      ]
    },
    {
      "cell_type": "code",
      "execution_count": null,
      "metadata": {},
      "outputs": [],
      "source": []
    }
  ],
  "metadata": {
    "colab": {
      "provenance": []
    },
    "kernelspec": {
      "display_name": "Python 3",
      "name": "python3"
    },
    "language_info": {
      "codemirror_mode": {
        "name": "ipython",
        "version": 3
      },
      "file_extension": ".py",
      "mimetype": "text/x-python",
      "name": "python",
      "nbconvert_exporter": "python",
      "pygments_lexer": "ipython3",
      "version": "3.8.0"
    }
  },
  "nbformat": 4,
  "nbformat_minor": 0
}
